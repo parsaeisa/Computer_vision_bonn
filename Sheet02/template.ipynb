{
 "cells": [
  {
   "cell_type": "markdown",
   "metadata": {},
   "source": [
    "NOTE: inside jupyter notebook is better to plot images with matplotlib instead of cv2"
   ]
  },
  {
   "cell_type": "code",
   "execution_count": null,
   "metadata": {},
   "outputs": [],
   "source": [
    "import cv2\n",
    "import numpy as np\n",
    "import matplotlib.pyplot as plt\n",
    "import time"
   ]
  },
  {
   "cell_type": "markdown",
   "metadata": {},
   "source": [
    "# Task 2 - Fourier Transform"
   ]
  },
  {
   "cell_type": "code",
   "execution_count": null,
   "metadata": {},
   "outputs": [],
   "source": [
    "def get_convolution_using_fourier_transform(image, kernel):\n",
    "    # TODO: implement\n",
    "    raise NotImplementedError"
   ]
  },
  {
   "cell_type": "code",
   "execution_count": null,
   "metadata": {},
   "outputs": [],
   "source": [
    "def get_convolution(image, kernel):\n",
    "    # TODO: implement\n",
    "    raise NotImplementedError"
   ]
  },
  {
   "cell_type": "code",
   "execution_count": null,
   "metadata": {},
   "outputs": [],
   "source": [
    "# Load image\n",
    "image = cv2.imread(\"./data/oldtown.jpg\", cv2.IMREAD_GRAYSCALE)\n",
    "kernel = None  # TODO: calculate kernel\n",
    "\n",
    "cv_result = None # TODO: cv2.filter2D\n",
    "conv_result = get_convolution(image, kernel)\n",
    "fft_result = get_convolution_using_fourier_transform(image, kernel)"
   ]
  },
  {
   "cell_type": "code",
   "execution_count": null,
   "metadata": {},
   "outputs": [],
   "source": [
    "# TODO: compare results"
   ]
  },
  {
   "cell_type": "markdown",
   "metadata": {},
   "source": [
    "# Task 3 - Template Matching"
   ]
  },
  {
   "cell_type": "code",
   "execution_count": null,
   "metadata": {},
   "outputs": [],
   "source": [
    "def normalized_cross_correlation(image, template):\n",
    "    # TODO: implement\n",
    "    raise NotImplementedError\n",
    "\n",
    "def ssd(image, template):\n",
    "    # TODO: implement\n",
    "    raise NotImplementedError\n",
    "\n",
    "def draw_rectangle_at_matches(image, template_h, template_w, matches):\n",
    "    # TODO: implement\n",
    "    raise NotImplementedError"
   ]
  },
  {
   "cell_type": "code",
   "execution_count": null,
   "metadata": {},
   "outputs": [],
   "source": [
    "# Load images\n",
    "image = cv2.imread(\"./data/einstein.jpeg\", cv2.IMREAD_GRAYSCALE)\n",
    "template = cv2.imread(\"./data/eye.jpeg\", cv2.IMREAD_GRAYSCALE)\n",
    "\n",
    "# convert to float and apply intensity transformation to image\n",
    "\n",
    "result_ncc = normalized_cross_correlation(image, template)\n",
    "result_ssd = ssd(image, template)\n",
    "\n",
    "# TODO: draw rectangle around found locations\n",
    "# TODO: show the results"
   ]
  },
  {
   "cell_type": "markdown",
   "metadata": {},
   "source": [
    "# Task 4 - Gaussian Pyramid"
   ]
  },
  {
   "cell_type": "code",
   "execution_count": null,
   "metadata": {},
   "outputs": [],
   "source": [
    "def build_gaussian_pyramid_opencv(image, num_levels):\n",
    "    # TODO: implement\n",
    "    raise NotImplementedError\n",
    "\n",
    "\n",
    "def build_gaussian_pyramid(image, num_levels):\n",
    "    # TODO: implement\n",
    "    raise NotImplementedError\n",
    "\n",
    "\n",
    "def template_matching_multiple_scales(pyramid_image, pyramid_template):\n",
    "    # TODO: implement\n",
    "    raise NotImplementedError"
   ]
  },
  {
   "cell_type": "code",
   "execution_count": null,
   "metadata": {},
   "outputs": [],
   "source": [
    "# Load images\n",
    "image = cv2.imread(\"./data/traffic.jpg\", cv2.IMREAD_GRAYSCALE)\n",
    "template = cv2.imread(\"./data/traffic-template.png\", cv2.IMREAD_GRAYSCALE)\n",
    "\n",
    "cv_pyramid = build_gaussian_pyramid_opencv(image, 4)\n",
    "\n",
    "my_pyramid = build_gaussian_pyramid(image, 4)\n",
    "my_pyramid_template = build_gaussian_pyramid(template, 4)\n",
    "\n",
    "# TODO: compare and print mean absolute difference at each level\n",
    "\n",
    "# TODO: calculate the time needed for template matching without the pyramid\n",
    "\n",
    "result = template_matching_multiple_scales(my_pyramid, my_pyramid_template)\n",
    "# TODO: calculate the time needed for template matching with the pyramid\n",
    "\n",
    "# TODO: show the template matching results using the pyramid"
   ]
  },
  {
   "cell_type": "markdown",
   "metadata": {},
   "source": [
    "# Task 5 - Blending Regions"
   ]
  },
  {
   "cell_type": "code",
   "execution_count": null,
   "metadata": {},
   "outputs": [],
   "source": [
    "def build_laplacian_pyramid(gaussian_pyramid):\n",
    "    # TODO: implement\n",
    "    raise NotImplementedError"
   ]
  },
  {
   "cell_type": "code",
   "execution_count": null,
   "metadata": {},
   "outputs": [],
   "source": [
    "# Load images\n",
    "messi = cv2.imread('data/messi.jpg')\n",
    "ronaldo = cv2.imread('data/ronaldo.jpeg')\n",
    "\n",
    "# TODO: build pyramids\n",
    "# TODO: blend Laplacian pyramids\n",
    "# TODO: collapse the combined pyramid\n",
    "# TODO: show the result"
   ]
  }
 ],
 "metadata": {
  "language_info": {
   "name": "python"
  }
 },
 "nbformat": 4,
 "nbformat_minor": 2
}

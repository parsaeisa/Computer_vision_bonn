{
 "cells": [
  {
   "cell_type": "code",
   "execution_count": 1,
   "id": "import-libraries",
   "metadata": {},
   "outputs": [],
   "source": [
    "import numpy as np\n",
    "import matplotlib.pyplot as plt\n",
    "from skimage import io, img_as_float\n",
    "from skimage.filters import sobel\n",
    "from skimage.feature import canny\n",
    "from scipy.ndimage import distance_transform_edt"
   ]
  },
  {
   "cell_type": "code",
   "execution_count": 2,
   "id": "read-images",
   "metadata": {},
   "outputs": [],
   "source": [
    "# Read the images\n",
    "image1 = img_as_float(io.imread('ball.png', as_gray=True))\n",
    "image2 = img_as_float(io.imread('coffee.png', as_gray=True))"
   ]
  },
  {
   "cell_type": "code",
   "execution_count": 3,
   "id": "initialize-snake",
   "metadata": {},
   "outputs": [],
   "source": [
    "# Initialize the snake\n",
    "s = np.linspace(0, 2*np.pi, 400)\n",
    "x = 220 + 100*np.cos(s)\n",
    "y = 100 + 100*np.sin(s)\n",
    "init = np.array([x, y]).T"
   ]
  },
  {
   "cell_type": "code",
   "execution_count": 4,
   "id": "optimize-snake-ball",
   "metadata": {},
   "outputs": [],
   "source": [
    "def external_energy(image):\n",
    "    edges = canny(image, sigma=2)\n",
    "    dist = distance_transform_edt(~edges)\n",
    "    return -dist"
   ]
  },
  {
   "cell_type": "code",
   "execution_count": 5,
   "id": "optimize-snake-coffee",
   "metadata": {},
   "outputs": [],
   "source": [
    "def gradient_energy(image):\n",
    "    grad = sobel(image)\n",
    "    return -grad"
   ]
  },
  {
   "cell_type": "code",
   "execution_count": 6,
   "id": "visualize-ball",
   "metadata": {},
   "outputs": [],
   "source": [
    "def internal_energy(snake, alpha=0.1, beta=0.1):\n",
    "    dists = np.sqrt(np.sum(np.diff(snake, axis=0)**2, axis=1))\n",
    "    avg_dist = np.mean(dists)\n",
    "    elastic_energy = alpha * np.sum((dists - avg_dist)**2)\n",
    "    bending_energy = beta * np.sum(np.diff(snake, n=2, axis=0)**2)\n",
    "    return elastic_energy + bending_energy\n"
   ]
  },
  {
   "cell_type": "code",
   "execution_count": 7,
   "id": "visualize-coffee",
   "metadata": {},
   "outputs": [],
   "source": [
    "def viterbi_snake(image, init, alpha=0.1, beta=0.1, gamma=0.1, max_iter=500, tol=1e-3):\n",
    "    snake = init.copy()\n",
    "    ext_energy = external_energy(image) + gradient_energy(image)\n",
    "    for _ in range(max_iter):\n",
    "        prev_snake = snake.copy()\n",
    "        for i in range(1, len(snake) - 1):\n",
    "            neighborhood = np.array([[dx, dy] for dx in range(-1, 2) for dy in range(-1, 2)])\n",
    "            new_positions = snake[i] + neighborhood\n",
    "            new_positions = np.clip(new_positions, 0, np.array(image.shape) - 1)\n",
    "            energies = np.array([internal_energy(np.vstack([snake[:i], pos, snake[i+1:]]), alpha, beta) + gamma * ext_energy[int(pos[1]), int(pos[0])] for pos in new_positions])\n",
    "            min_energy_idx = np.argmin(energies)\n",
    "            snake[i] = new_positions[min_energy_idx]\n",
    "        if np.linalg.norm(snake - prev_snake) < tol:\n",
    "            break\n",
    "    return snake"
   ]
  },
  {
   "cell_type": "code",
   "execution_count": 8,
   "id": "6d6bc868",
   "metadata": {},
   "outputs": [],
   "source": [
    "# Apply snake to both images\n",
    "snake1 = viterbi_snake(image1, init, alpha=0.1, beta=0.1, gamma=1.0)\n",
    "snake2 = viterbi_snake(image2, init, alpha=0.1, beta=0.1, gamma=1.0)"
   ]
  },
  {
   "cell_type": "code",
   "execution_count": 9,
   "id": "50fecb9d",
   "metadata": {},
   "outputs": [
    {
     "data": {
      "image/png": "[encoded data removed]",
      "text/plain": [
       "<Figure size 1000x500 with 2 Axes>"
      ]
     },
     "metadata": {},
     "output_type": "display_data"
    }
   ],
   "source": [
    "# Plot the results\n",
    "fig, ax = plt.subplots(1, 2, figsize=(10, 5))"
   ]
  },
  {
   "cell_type": "code",
   "execution_count": 10,
   "id": "02b9e7c8",
   "metadata": {},
   "outputs": [
    {
     "data": {
      "text/plain": [
       "Text(0.5, 1.0, 'Ball Image')"
      ]
     },
     "execution_count": 10,
     "metadata": {},
     "output_type": "execute_result"
    }
   ],
   "source": [
    "ax[0].imshow(image1, cmap=plt.cm.gray)\n",
    "ax[0].plot(init[:, 0], init[:, 1], '--r', lw=3)\n",
    "ax[0].plot(snake1[:, 0], snake1[:, 1], '-b', lw=3)\n",
    "ax[0].set_title('Ball Image')"
   ]
  },
  {
   "cell_type": "code",
   "execution_count": 11,
   "id": "e0d56ede",
   "metadata": {},
   "outputs": [
    {
     "data": {
      "text/plain": [
       "Text(0.5, 1.0, 'Coffee Image')"
      ]
     },
     "execution_count": 11,
     "metadata": {},
     "output_type": "execute_result"
    }
   ],
   "source": [
    "ax[1].imshow(image2, cmap=plt.cm.gray)\n",
    "ax[1].plot(init[:, 0], init[:, 1], '--r', lw=3)\n",
    "ax[1].plot(snake2[:, 0], snake2[:, 1], '-b', lw=3)\n",
    "ax[1].set_title('Coffee Image')"
   ]
  },
  {
   "cell_type": "code",
   "execution_count": 12,
   "id": "738366cf",
   "metadata": {},
   "outputs": [],
   "source": [
    "for a in ax:\n",
    "    a.set_xticks([])\n",
    "    a.set_yticks([])"
   ]
  },
  {
   "cell_type": "code",
   "execution_count": 13,
   "id": "f703b08f",
   "metadata": {},
   "outputs": [],
   "source": [
    "plt.show()"
   ]
  },
  {
   "cell_type": "code",
   "execution_count": null,
   "id": "39d913b6",
   "metadata": {},
   "outputs": [],
   "source": []
  },
  {
   "cell_type": "code",
   "execution_count": null,
   "id": "620f2799",
   "metadata": {},
   "outputs": [],
   "source": []
  },
  {
   "cell_type": "code",
   "execution_count": null,
   "id": "fefaa273",
   "metadata": {},
   "outputs": [],
   "source": []
  }
 ],
 "metadata": {
  "kernelspec": {
   "display_name": "Python 3 (ipykernel)",
   "language": "python",
   "name": "python3"
  },
  "language_info": {
   "codemirror_mode": {
    "name": "ipython",
    "version": 3
   },
   "file_extension": ".py",
   "mimetype": "text/x-python",
   "name": "python",
   "nbconvert_exporter": "python",
   "pygments_lexer": "ipython3",
   "version": "3.11.5"
  }
 },
 "nbformat": 4,
 "nbformat_minor": 5
}
